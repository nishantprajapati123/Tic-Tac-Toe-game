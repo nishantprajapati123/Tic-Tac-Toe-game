{
 "cells": [
  {
   "cell_type": "code",
   "execution_count": 1,
   "metadata": {},
   "outputs": [],
   "source": [
    "from IPython.display import clear_output \n",
    "#define board\n",
    "def display_board(board):\n",
    "    clear_output()\n",
    "    print(board[1]+'|'+board[2]+'|'+board[3])\n",
    "    print('-|-|-')\n",
    "    print(board[4]+'|'+board[5]+'|'+board[6])\n",
    "    print('-|-|-')\n",
    "    print(board[7]+'|'+board[8]+'|'+board[9])\n"
   ]
  },
  {
   "cell_type": "code",
   "execution_count": 2,
   "metadata": {},
   "outputs": [],
   "source": [
    "#function for rename\n",
    "def rename():\n",
    "    res=''\n",
    "    while res!='y' and res!='n':\n",
    "        res=input('Do you want to rename player\\'s name [y/n]:')\n",
    "        if(res=='y'):\n",
    "            player1=input('Enter player1\\'s name:')\n",
    "            player2=input('Enter player2\\'s name:')\n",
    "            return (player1,player2)\n",
    "        elif(res=='n'):\n",
    "            player1='player1'\n",
    "            player2='player2'\n",
    "            return (player1,player2)\n",
    "        else:\n",
    "            print('Enter a valid response')\n",
    "    "
   ]
  },
  {
   "cell_type": "code",
   "execution_count": 3,
   "metadata": {},
   "outputs": [],
   "source": [
    "#input marker i.e., X or O\n",
    "def input_marker():\n",
    "    marker=''\n",
    "    while marker!='X' and marker!='O':\n",
    "        marker=input('player1 choose X or O:').upper()\n",
    "    player1_marker=marker\n",
    "    if player1_marker=='X':\n",
    "        player2_marker='O'\n",
    "    else:\n",
    "        player2_marker='X'\n",
    "    \n",
    "    return (player1_marker,player2_marker) #return player marker\n",
    "\n",
    "    \n"
   ]
  },
  {
   "cell_type": "code",
   "execution_count": 4,
   "metadata": {},
   "outputs": [],
   "source": [
    "def place_marker(board,marker,position):\n",
    "    board[position]=marker\n",
    "    return board"
   ]
  },
  {
   "cell_type": "code",
   "execution_count": 5,
   "metadata": {},
   "outputs": [],
   "source": [
    "def win_check(board,marker):\n",
    "    \n",
    "    if(board[1]==board[2]==board[3]==marker):\n",
    "        return True\n",
    "    elif(board[4]==board[5]==board[6]==marker):\n",
    "        return True\n",
    "    elif(board[7]==board[8]==board[9]==marker):\n",
    "        return True\n",
    "    elif(board[1]==board[4]==board[7]==marker):\n",
    "        return True\n",
    "    elif(board[2]==board[5]==board[8]==marker):\n",
    "        return True\n",
    "    elif(board[3]==board[6]==board[9]==marker):\n",
    "        return True\n",
    "    elif(board[1]==board[5]==board[9]==marker):\n",
    "        return True\n",
    "    elif(board[3]==board[5]==board[9]==marker):\n",
    "        return True\n",
    "    else:\n",
    "        return False\n",
    "    "
   ]
  },
  {
   "cell_type": "code",
   "execution_count": 6,
   "metadata": {},
   "outputs": [],
   "source": [
    "#if avilable return true else false\n",
    "def space_check(board):\n",
    "    count=0\n",
    "    for item in test_board[1:]:\n",
    "        if(item!=' '):\n",
    "            count+=1\n",
    "    return (count+1)==len(test_board)"
   ]
  },
  {
   "cell_type": "code",
   "execution_count": 7,
   "metadata": {},
   "outputs": [],
   "source": [
    "#space_check(test_board)"
   ]
  },
  {
   "cell_type": "code",
   "execution_count": 8,
   "metadata": {},
   "outputs": [],
   "source": [
    "def player_choice(player_name):\n",
    "    while(True):\n",
    "        try:\n",
    "            position=int(input(f'{player_name} enter your position:'))\n",
    "        except ValueError:\n",
    "            print('Enter a number (1-9)!!')\n",
    "            continue\n",
    "        if position in [1,2,3,4,5,6,7,8,9]:\n",
    "            return position\n",
    "        else:\n",
    "            return -1\n",
    "    "
   ]
  },
  {
   "cell_type": "code",
   "execution_count": 9,
   "metadata": {},
   "outputs": [],
   "source": [
    "import random\n",
    "\n",
    "def choose_player():\n",
    "    if random.randint(1,2)==1:\n",
    "        return 'player1'\n",
    "    else:\n",
    "        return 'player2'"
   ]
  },
  {
   "cell_type": "code",
   "execution_count": 10,
   "metadata": {},
   "outputs": [],
   "source": [
    "def replay():\n",
    "    res=''\n",
    "    while(res!='y' and res!='n'):\n",
    "        res=input('Do you want to play again [y/n]:')\n",
    "        if(res=='y'):\n",
    "            return 'yes'\n",
    "        else:\n",
    "            return 'no'\n",
    "    "
   ]
  },
  {
   "cell_type": "code",
   "execution_count": 11,
   "metadata": {},
   "outputs": [
    {
     "name": "stdout",
     "output_type": "stream",
     "text": [
      "X|O|X\n",
      "-|-|-\n",
      "O|X|O\n",
      "-|-|-\n",
      "X|O|X\n",
      "CONGRATS Nishant has won\n",
      "Do you want to play again [y/n]:n\n",
      "Thank you\n"
     ]
    }
   ],
   "source": [
    "# replay()\n",
    "#def start_game():\n",
    "\n",
    "while(True): # star game\n",
    "    clear_output()   #clear previous output\n",
    "## start game\n",
    "#define test_board\n",
    "    test_board=[' ']*10\n",
    "    print('Welcome to Tic Tac Toe game')\n",
    "    print('---------------------------')\n",
    "    name1,name2 =rename()\n",
    "    print(f'player\\'s names are {name1} and {name2}')\n",
    "#select player's marker\n",
    "    player1_marker,player2_marker= input_marker()\n",
    "    print(f'{name1}\\'s marker is {player1_marker}:')\n",
    "    print(f'{name2}\\'s marker is {player2_marker}:')\n",
    "    print('\\n'*5)\n",
    "\n",
    "#position description\n",
    "    print('position description')\n",
    "    print('--------------------')\n",
    "    print('1|2|3')\n",
    "    print('-|-|-')\n",
    "    print('4|5|6')\n",
    "    print('-|-|-')\n",
    "    print('7|8|9')\n",
    "    turn =choose_player()\n",
    "    while (True):  #start playing\n",
    "        if (turn=='player1'):\n",
    "    #player1 turn\n",
    "            k=True\n",
    "            while(k):\n",
    "                pos1=player_choice(name1)   #grap position\n",
    "                if(pos1!=-1):    #check for valid position\n",
    "                    if(test_board[pos1]==' '):\n",
    "                        test_board=place_marker(test_board,player1_marker,pos1)    #place marker\n",
    "                        display_board(test_board)    #display board\n",
    "                        k=False\n",
    "                    else:\n",
    "                        print('oops! already taken')\n",
    "                else:\n",
    "                    print('Enter valid position (1-9)')                \n",
    "            if(win_check(test_board,player1_marker)):  #check for win \n",
    "                print(f'CONGRATS {name1} has won')\n",
    "                break\n",
    "            if(space_check(test_board)):   #if not win check for tie\n",
    "                print('Match tie')\n",
    "                break\n",
    "            turn='player2'\n",
    "\n",
    "    \n",
    "    #player2  turn   same for player 2\n",
    "        else:\n",
    "            k=True\n",
    "            while(k):\n",
    "                pos2=player_choice(name2)\n",
    "                if(pos2!=-1):\n",
    "                    if(test_board[pos2]==' '):\n",
    "                        test_board=place_marker(test_board,player2_marker,pos2)\n",
    "                        display_board(test_board)\n",
    "                        k=False\n",
    "                    else:\n",
    "                        print('oops! already taken')\n",
    "                else:\n",
    "                    print('Enter valid position (1-9)')\n",
    "            if(win_check(test_board,player2_marker)):\n",
    "                print(f'CONGRATS {name2} has won')\n",
    "                break\n",
    "            if(space_check(test_board)):\n",
    "                print('Match tie')\n",
    "                break\n",
    "            turn='player1'\n",
    "        \n",
    "#for play again\n",
    "    if(replay()=='no'):\n",
    "        print('Thank you')\n",
    "        break\n",
    "\n",
    "    "
   ]
  },
  {
   "cell_type": "code",
   "execution_count": null,
   "metadata": {},
   "outputs": [],
   "source": []
  }
 ],
 "metadata": {
  "kernelspec": {
   "display_name": "Python 3",
   "language": "python",
   "name": "python3"
  },
  "language_info": {
   "codemirror_mode": {
    "name": "ipython",
    "version": 3
   },
   "file_extension": ".py",
   "mimetype": "text/x-python",
   "name": "python",
   "nbconvert_exporter": "python",
   "pygments_lexer": "ipython3",
   "version": "3.6.4"
  }
 },
 "nbformat": 4,
 "nbformat_minor": 2
}
